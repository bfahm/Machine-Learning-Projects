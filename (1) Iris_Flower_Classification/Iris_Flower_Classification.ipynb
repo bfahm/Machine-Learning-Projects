{
 "cells": [
  {
   "cell_type": "markdown",
   "metadata": {},
   "source": [
    "# Iris Flower 🌼\n",
    "A Multiclass Classification Problem\n",
    "\n",
    "\n",
    "## Dataset Specs:\n",
    "4 attributes (Columns)\n",
    "150 rows (training data)\n",
    "*All numeric values has the same scale, so no normalziation is needed.*\n",
    "\n",
    "The dataset contains **150 observations** of iris flowers. There are **four columns of measurements** of the flowers in centimeters. The **fifth column is the species** of the flower observed. All observed flowers belong to **one of three species**.\n"
   ]
  },
  {
   "cell_type": "code",
   "execution_count": 1,
   "metadata": {},
   "outputs": [],
   "source": [
    "import sys\n",
    "import scipy\n",
    "import numpy\n",
    "import matplotlib\n",
    "import sklearn\n",
    "import pandas\n",
    "from pandas.plotting import scatter_matrix\n",
    "import matplotlib.pyplot as plt\n",
    "from sklearn import model_selection\n",
    "from sklearn.metrics import classification_report\n",
    "from sklearn.metrics import accuracy_score\n",
    "from sklearn.linear_model import LogisticRegression\n",
    "from sklearn.tree import DecisionTreeClassifier\n",
    "from sklearn.naive_bayes import GaussianNB\n",
    "from sklearn.svm import SVC"
   ]
  },
  {
   "cell_type": "code",
   "execution_count": 2,
   "metadata": {},
   "outputs": [],
   "source": [
    "seed = 7  # Retrieve the same results every run\n",
    "scoring = 'accuracy'  # Test model score by accuracy (in %percentage)"
   ]
  },
  {
   "cell_type": "code",
   "execution_count": 3,
   "metadata": {},
   "outputs": [],
   "source": [
    "# Check the versions of libraries\n",
    "def check_versions():\n",
    "    print('Python: {}'.format(sys.version))\n",
    "    print('scipy: {}'.format(scipy.__version__))\n",
    "    print('numpy: {}'.format(numpy.__version__))\n",
    "    print('matplotlib: {}'.format(matplotlib.__version__))\n",
    "    print('pandas: {}'.format(pandas.__version__))\n",
    "    print('sklearn: {}'.format(sklearn.__version__))"
   ]
  },
  {
   "cell_type": "code",
   "execution_count": 4,
   "metadata": {},
   "outputs": [],
   "source": [
    "def load_dataset(to_print=-1):\n",
    "    \"\"\"\n",
    "    Loads a csv file into a dataFrame\n",
    "    column = 'names'\n",
    "    rows from 1 to 150.\n",
    "    Takes a value from 1 to 8 to peek at the data in a special form or by printing out a graph,\n",
    "    If left plank, it will just load the set.\n",
    "    \"\"\"\n",
    "\n",
    "    url = \"iris_data.csv\"\n",
    "    names = ['sepal-length', 'sepal-width', 'petal-length', 'petal-width', 'class']\n",
    "    dataset = pandas.read_csv(url, names=names)\n",
    "\n",
    "    if to_print == 0:  # Print the set as is.\n",
    "        print(dataset.values)\n",
    "    elif to_print == 1:  # Default print way\n",
    "        print(dataset)\n",
    "    elif to_print == 2:  # Peek at the first 20 elements\n",
    "        print(dataset.head(20))\n",
    "    elif to_print == 3:  # Print some info of the dataset\n",
    "        print(dataset.describe())\n",
    "    elif to_print == 4:\n",
    "        print(dataset.groupby('class').count())\n",
    "    elif to_print == 5:  # Box and whiskers plot\n",
    "        '''\n",
    "        The plot show a box, where the first edge represents the median of teh first half of the dataset,\n",
    "        the second edge represents the median of the second half of the dataset,\n",
    "        the middle edge (the one cutting the box into two pieces) represents the median of the dataset.\n",
    "        The top and bottom lines (the whiskers) represents the rest of the dataset. \n",
    "        Refer to: https://www.youtube.com/watch?v=09Cx7xuIXig for more.\n",
    "        '''\n",
    "        dataset.plot(kind='box', subplots=True, layout=(2, 2), sharex=False, sharey=False)\n",
    "        plt.show()\n",
    "    elif to_print == 6:\n",
    "        dataset.hist()\n",
    "        plt.show()\n",
    "    elif to_print == 7:  # scatter plot matrix\n",
    "        '''\n",
    "        Scatter plot matrix plots the relation between two pairs of attributes.\n",
    "        Great for spotting a correlation between attribs.\n",
    "        '''\n",
    "        scatter_matrix(dataset)\n",
    "        plt.show()\n",
    "    elif to_print == 8:  # just print the shape.\n",
    "        print(\"Shape = \", dataset.shape)\n",
    "\n",
    "    return dataset.values"
   ]
  },
  {
   "cell_type": "code",
   "execution_count": 5,
   "metadata": {},
   "outputs": [],
   "source": [
    "def split_data(test_size=0.2):\n",
    "    \"\"\"\n",
    "    Splits the dataset into portions, training set and test set.\n",
    "    Test set is used to provide \"unseen\" examples to the model, aka, examples where the model didn't train on to test\n",
    "    its performance.\n",
    "    :param test_size: takes the ratio to which data should be slitted, defaulted at 0.2 (20%)\n",
    "    :return: X_train, Y_train, X_test, Y_test\n",
    "    \"\"\"\n",
    "\n",
    "    data = load_dataset()\n",
    "    X = data[:, 0:4]  # Take columns 0, 1, 2, 3 (excluding the 'class' column which should be output) as inputs\n",
    "    Y = data[:, 4]  # Take the last column, 'class', as the output\n",
    "\n",
    "    # random_state shuffles the set, keeping it to \"seed\" makes sure it results the same every run.\n",
    "    X_train, X_test, Y_train, Y_test = model_selection.train_test_split(X, Y, test_size=test_size, random_state=seed)\n",
    "\n",
    "    return X_train, X_test, Y_train, Y_test"
   ]
  },
  {
   "cell_type": "code",
   "execution_count": 6,
   "metadata": {},
   "outputs": [],
   "source": [
    "def compare_models(X_train, Y_train):\n",
    "    # Define a list of models where we compare between.\n",
    "    models = [('Logistic Regression', LogisticRegression(solver='liblinear', multi_class='ovr')),\n",
    "              ('Decision Tree', DecisionTreeClassifier()),\n",
    "              ('Gaussian Naive Bayes', GaussianNB()),\n",
    "              ('Support Vector Machines', SVC(gamma='auto'))]\n",
    "\n",
    "    for name, model in models:\n",
    "        kFold = model_selection.KFold(n_splits=10, random_state=seed)\n",
    "        cv_score = model_selection.cross_val_score(model, X_train, Y_train, scoring=scoring, cv=kFold)\n",
    "        print(name, \": \", cv_score.mean())"
   ]
  },
  {
   "cell_type": "markdown",
   "metadata": {},
   "source": [
    "## Run the model by calling `split_data` which in trun calls `load_dataset`"
   ]
  },
  {
   "cell_type": "code",
   "execution_count": 8,
   "metadata": {},
   "outputs": [],
   "source": [
    "X_train, X_test, Y_train, Y_test = split_data()"
   ]
  },
  {
   "cell_type": "markdown",
   "metadata": {},
   "source": [
    "## Compare between all the models"
   ]
  },
  {
   "cell_type": "code",
   "execution_count": 9,
   "metadata": {},
   "outputs": [
    {
     "name": "stdout",
     "output_type": "stream",
     "text": [
      "Logistic Regression :  0.9666666666666666\n",
      "Decision Tree :  0.9833333333333332\n",
      "Gaussian Naive Bayes :  0.975\n",
      "Support Vector Machines :  0.9916666666666666\n"
     ]
    }
   ],
   "source": [
    "compare_models(X_train, Y_train)"
   ]
  },
  {
   "cell_type": "markdown",
   "metadata": {},
   "source": [
    "## It appears that logistic regression performs better"
   ]
  },
  {
   "cell_type": "code",
   "execution_count": 10,
   "metadata": {},
   "outputs": [],
   "source": [
    "def logistic_model(X_train, X_test, Y_train, Y_test):\n",
    "    classifier = LogisticRegression(solver='liblinear', multi_class='ovr')\n",
    "    classifier.fit(X_train, Y_train)\n",
    "    predictions = classifier.predict(X_test)\n",
    "\n",
    "    print(\"Accuracy is: \", accuracy_score(Y_test, predictions))\n",
    "    print(\"------------------------------------------------------------------\")\n",
    "    print(classification_report(Y_test, predictions))"
   ]
  },
  {
   "cell_type": "code",
   "execution_count": 11,
   "metadata": {},
   "outputs": [
    {
     "name": "stdout",
     "output_type": "stream",
     "text": [
      "Accuracy is:  0.8\n",
      "------------------------------------------------------------------\n",
      "                 precision    recall  f1-score   support\n",
      "\n",
      "    Iris-setosa       1.00      1.00      1.00         7\n",
      "Iris-versicolor       0.88      0.58      0.70        12\n",
      " Iris-virginica       0.67      0.91      0.77        11\n",
      "\n",
      "      micro avg       0.80      0.80      0.80        30\n",
      "      macro avg       0.85      0.83      0.82        30\n",
      "   weighted avg       0.83      0.80      0.80        30\n",
      "\n"
     ]
    }
   ],
   "source": [
    "logistic_model(X_train, X_test, Y_train, Y_test)"
   ]
  }
 ],
 "metadata": {
  "kernelspec": {
   "display_name": "Python 3",
   "language": "python",
   "name": "python3"
  },
  "language_info": {
   "codemirror_mode": {
    "name": "ipython",
    "version": 3
   },
   "file_extension": ".py",
   "mimetype": "text/x-python",
   "name": "python",
   "nbconvert_exporter": "python",
   "pygments_lexer": "ipython3",
   "version": "3.7.1"
  }
 },
 "nbformat": 4,
 "nbformat_minor": 2
}
